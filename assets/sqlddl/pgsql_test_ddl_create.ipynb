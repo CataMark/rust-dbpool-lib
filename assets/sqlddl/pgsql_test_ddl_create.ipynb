{
    "cells": [
        {
            "cell_type": "code",
            "execution_count": null,
            "metadata": {
                "azdata_cell_guid": "a7e25d09-0a73-4971-abd7-d73b570ff9c5",
                "language": "sql",
                "tags": []
            },
            "outputs": [],
            "source": [
                "/* 0000.01 - schema test*/\n",
                "do $$\n",
                "declare dbname text;\n",
                "begin\n",
                "    raise notice 'create schema \"test\"';\n",
                "\n",
                "    dbname := current_database();\n",
                "    if dbname != 'ident' then\n",
                "        raise exception 'not in \"ident\" database';\n",
                "    end if;\n",
                "    \n",
                "    create schema if not exists test;\n",
                "\n",
                "    raise notice 'add uuid extension';\n",
                "    create extension if not exists \"uuid-ossp\";\n",
                "end;\n",
                "$$ language plpgsql;"
            ]
        },
        {
            "cell_type": "code",
            "execution_count": null,
            "metadata": {
                "azdata_cell_guid": "98fd6959-25ba-4357-a4a8-0c6219fa3120",
                "language": "sql",
                "tags": []
            },
            "outputs": [],
            "source": [
                "/* 0001.01 - test.tbl_tst_users*/\n",
                "do $$\n",
                "begin\n",
                "    raise notice 'create table \"test.tbl_tst_users\"';\n",
                "\n",
                "    create table if not exists test.tbl_tst_users (\n",
                "        id uuid not null default uuid_generate_v4(),\n",
                "        username text not null,\n",
                "        firstname text not null,\n",
                "        lastname text not null,\n",
                "        email text not null,\n",
                "        mod_de text not null,\n",
                "        mod_timp timestamp not null default current_timestamp,\n",
                "        constraint tbl_tst_users_pk primary key (id),\n",
                "        constraint tbl_tst_users_uq1 unique (username),\n",
                "        constraint tbl_tst_users_ck1 check (email ~* '^[A-Za-z0-9._+%-]+@[A-Za-z0-9.-]+[.][A-Za-z]+$')\n",
                "    );\n",
                "end;\n",
                "$$ language plpgsql;"
            ]
        },
        {
            "cell_type": "code",
            "execution_count": null,
            "metadata": {
                "azdata_cell_guid": "2fd45f09-e7e9-4a16-86c0-1d2f1b4b0aad",
                "language": "sql"
            },
            "outputs": [],
            "source": [
                "/* 0001.02 - test.tbl_tst_values */\n",
                "do $$\n",
                "begin\n",
                "    raise notice 'create table \"test.tbl_tst_values\"';\n",
                "\n",
                "    create table if not exists test.tbl_tst_values(\n",
                "        id uuid not null default uuid_generate_v4(),\n",
                "        field1 text not null,\n",
                "        field2 int not null,\n",
                "        field3 decimal not null,\n",
                "        field4 text,\n",
                "        field5 date not null,\n",
                "        field6 timestamp\n",
                "    );\n",
                "end;\n",
                "$$ language plpgsql;"
            ]
        },
        {
            "cell_type": "code",
            "execution_count": null,
            "metadata": {
                "azdata_cell_guid": "b79c96e3-912b-4a55-a954-fa47dffa3dfe",
                "language": "sql"
            },
            "outputs": [],
            "source": [
                "/* 0001.03 - test.tbl_tst_column_names */\n",
                "do $$\n",
                "begin\n",
                "    raise notice 'create table \"test.tbl_tst_column_names\"';\n",
                "\n",
                "    create table if not exists test.tbl_tst_column_names (\n",
                "        \"id\" uuid not null default uuid_generate_v4(),\n",
                "        \"Field 1\" text not null,\n",
                "        \"Field.2\" int not null,\n",
                "        \"fiEld 3\" decimal not null,\n",
                "        \"Field_4\" text,\n",
                "        \"FIELD 5\" date not null,\n",
                "        \"Field 6\" timestamp\n",
                "    );\n",
                "end;\n",
                "$$ language plpgsql;"
            ]
        }
    ],
    "metadata": {
        "kernelspec": {
            "display_name": "SQL",
            "language": "sql",
            "name": "SQL"
        },
        "language_info": {
            "name": "sql",
            "version": ""
        }
    },
    "nbformat": 4,
    "nbformat_minor": 2
}
