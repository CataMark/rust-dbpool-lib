{
    "cells": [
        {
            "cell_type": "code",
            "execution_count": null,
            "metadata": {
                "azdata_cell_guid": "06c5961a-c5dc-4d72-b41d-80d68fc29ccb",
                "language": "sql",
                "tags": []
            },
            "outputs": [],
            "source": [
                "/* 0000.01 */\n",
                "do $$\n",
                "begin\n",
                "    raise notice 'create database \"ident\"';\n",
                "end;\n",
                "$$ language plpgsql;\n",
                "\n",
                "create database ident;"
            ]
        },
        {
            "cell_type": "code",
            "execution_count": null,
            "metadata": {
                "azdata_cell_guid": "44b29dfd-5100-40f4-9d07-c69afd56c3c0",
                "language": "sql",
                "tags": []
            },
            "outputs": [],
            "source": [
                "/* 0000.02 */\n",
                "do $$\n",
                "declare dbname text;\n",
                "begin\n",
                "    raise notice 'create schema \"main\"';\n",
                "\n",
                "    dbname := current_database();\n",
                "    if dbname != 'ident' then\n",
                "        raise exception 'not in \"ident\" database';\n",
                "    end if;\n",
                "    \n",
                "    create schema if not exists main;\n",
                "\n",
                "    raise notice 'add uuid extension';\n",
                "    create extension if not exists \"uuid-ossp\";\n",
                "end;\n",
                "$$ language plpgsql;"
            ]
        },
        {
            "cell_type": "code",
            "execution_count": null,
            "metadata": {
                "azdata_cell_guid": "19d7023d-7ea0-42eb-99ee-d1c1c8b75134",
                "language": "sql"
            },
            "outputs": [],
            "source": [
                "/* 0001.01 */\n",
                "do $$\n",
                "begin\n",
                "    raise notice 'create table \"main.tbl_int_users\"';\n",
                "\n",
                "    create table if not exists main.tbl_int_users (\n",
                "        id uuid not null default uuid_generate_v4(),\n",
                "        username text not null,\n",
                "        firstname text not null,\n",
                "        lastname text not null,\n",
                "        email text not null,\n",
                "        mod_de text not null,\n",
                "        mod_timp timestamp not null default current_timestamp,\n",
                "        constraint tbl_int_users_pk primary key (id),\n",
                "        constraint tbl_int_users_uq1 unique (username),\n",
                "        constraint tbl_int_users_ck1 check (email ~* '^[A-Za-z0-9._+%-]+@[A-Za-z0-9.-]+[.][A-Za-z]+$')\n",
                "    );\n",
                "end;\n",
                "$$ language plpgsql;"
            ]
        }
    ],
    "metadata": {
        "kernelspec": {
            "display_name": "SQL",
            "language": "sql",
            "name": "SQL"
        },
        "language_info": {
            "name": "sql",
            "version": ""
        }
    },
    "nbformat": 4,
    "nbformat_minor": 2
}
