{
    "cells": [
        {
            "cell_type": "code",
            "execution_count": null,
            "metadata": {
                "azdata_cell_guid": "866f35b5-8edb-4852-8e5a-941256928085",
                "language": "sql"
            },
            "outputs": [],
            "source": [
                "/* 0000.01 */\n",
                "begin\n",
                "    declare @dbname nvarchar(255) = db_name();\n",
                "\n",
                "    if @dbname != 'ident'\n",
                "        raiserror (N'not in \"ident\" database', 16, 1);\n",
                "\n",
                "    if not exists (select * from sys.schemas where name = 'test')\n",
                "        exec('create schema test');\n",
                "end;"
            ]
        },
        {
            "cell_type": "code",
            "execution_count": null,
            "metadata": {
                "azdata_cell_guid": "672924ca-e5a4-4eb7-b61c-c50bd6eac1d0",
                "language": "sql"
            },
            "outputs": [],
            "source": [
                "/* 0001.01 - test.tbl_tst_users */\n",
                "begin\n",
                "    print 'create table \"test.tbl_tst_users\"';\n",
                "\n",
                "    if not exists (select * from information_schema.tables where table_schema = 'test' and table_name = 'tbl_tst_users')\n",
                "        create table test.tbl_tst_users (\n",
                "            id uniqueidentifier not null constraint tbl_tst_users_df1 default newsequentialid(),\n",
                "            username nvarchar(255) not null,\n",
                "            firstname nvarchar(255) not null,\n",
                "            lastname nvarchar(255) not null,\n",
                "            email nvarchar(255) not null,\n",
                "            mod_de nvarchar(255) not null,\n",
                "            mod_timp datetime not null constraint tbl_tst_users_df2 default current_timestamp,\n",
                "            constraint tbl_tst_users_pk primary key (id),\n",
                "            constraint tbl_tst_users_uq1 unique (username),\n",
                "            constraint tbl_tst_users_ck1 check (email like '%___@___%.__%')             \n",
                "        );\n",
                "end;"
            ]
        },
        {
            "cell_type": "code",
            "execution_count": null,
            "metadata": {
                "azdata_cell_guid": "35c54492-4486-403a-8f21-94c65abca9f4",
                "language": "sql"
            },
            "outputs": [],
            "source": [
                "/* 0001.02 - test.tbl_tst_values */\n",
                "begin\n",
                "    print 'create table \"test.tbl_tst_values\"';\n",
                "\n",
                "    if not exists (select * from information_schema.tables where table_schema = 'test' and table_name = 'tbl_tst_values')\n",
                "        create table test.tbl_tst_values(\n",
                "            id uniqueidentifier not null constraint tbl_tst_values_df1 default newsequentialid(),\n",
                "            field1 nvarchar(1000) not null,\n",
                "            field2 int not null,\n",
                "            field3 decimal(10,5) not null,\n",
                "            field4 nvarchar(1000) not null,\n",
                "            field5 date not null,\n",
                "            field6 datetime\n",
                "        );\n",
                "end;"
            ]
        },
        {
            "cell_type": "code",
            "execution_count": null,
            "metadata": {
                "azdata_cell_guid": "b0dd88fb-32a6-4d0e-86b1-6633b1e6fccf",
                "language": "sql"
            },
            "outputs": [],
            "source": [
                "/* 0001.03 - test.tbl_tst_column_names */\n",
                "begin\n",
                "    print 'create table \"test.tbl_tst_column_names\"';\n",
                "\n",
                "    if not exists (select * from information_schema.tables where table_schema = 'test' and table_name = 'tbl_tst_column_names')\n",
                "        create table test.tbl_tst_column_names (\n",
                "            [id] uniqueidentifier not null constraint tbl_tst_column_names_df1 default newsequentialid(),\n",
                "            [Field 1] nvarchar(1000) not null,\n",
                "            [Field.2] int not null,\n",
                "            [fiEld 3] decimal(10,5) not null,\n",
                "            [Field_4] nvarchar(1000),\n",
                "            [FIELD 5] date not null,\n",
                "            [Field 6] datetime\n",
                "        );\n",
                "end;"
            ]
        }
    ],
    "metadata": {
        "kernelspec": {
            "display_name": "SQL",
            "language": "sql",
            "name": "SQL"
        },
        "language_info": {
            "name": "sql",
            "version": ""
        }
    },
    "nbformat": 4,
    "nbformat_minor": 2
}
